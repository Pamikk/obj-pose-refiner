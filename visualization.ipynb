{
 "cells": [
  {
   "cell_type": "code",
   "execution_count": 1,
   "metadata": {},
   "outputs": [],
   "source": [
    "import math\n",
    "import numpy as np\n",
    "from scipy.linalg import logm\n",
    "import os\n",
    "import sys\n",
    "from abc import abstractmethod\n",
    "from typing import TypeVar\n",
    "\n",
    "import argparse\n",
    "from open3d import *\n",
    "from pose_utils import gen_coarse_pose_rand\n",
    "from algs import ICP\n",
    "from utils import CalPoseDist\n",
    "import time\n",
    "sys.path.append(\"../ffb6d\")\n",
    "import torch\n",
    "import torch.optim as optim\n",
    "from torch.optim.lr_scheduler import CyclicLR\n",
    "import torch.backends.cudnn as cudnn\n",
    "\n",
    "from datasets import Dataset\n",
    "\n",
    "from ope_utils import mesh_utils\n",
    "from configs import config\n",
    "import warnings\n",
    "warnings.filterwarnings(\"ignore\")\n",
    "from tqdm import tqdm\n",
    "cfg_file = \"configs/linemod_ape.yaml\"\n",
    "cfg = config.create_config(cfg_file)"
   ]
  },
  {
   "cell_type": "code",
   "execution_count": 2,
   "metadata": {},
   "outputs": [],
   "source": [
    "class Params:\n",
    "    #network parameterws\n",
    "    def __init__(self):\n",
    "        self.max_iters = 100\n",
    "        self.threshold = 1e-5\n",
    "        self.save_poses = False\n",
    "        self.outlier = 0.01\n",
    "\n",
    "\n",
    "params = Params()"
   ]
  },
  {
   "cell_type": "code",
   "execution_count": 3,
   "metadata": {},
   "outputs": [
    {
     "name": "stdout",
     "output_type": "stream",
     "text": [
      "cls_id in dataset.py 1\n",
      "train.txt_dataset_size:  186\n",
      "/home/pxu/ope_ffb6d/ffb6d/datasets/linemod/Linemod_preprocessed\n",
      "loading p3ds from ply: /home/pxu/ope_ffb6d/ffb6d/datasets/linemod/Linemod_preprocessed/models/obj_01.ply\n",
      "finish loading ply.\n",
      "torch.Size([5841, 3])\n"
     ]
    }
   ],
   "source": [
    "cudnn.benchmark = False\n",
    "cudnn.deterministic = True\n",
    "torch.manual_seed(0)\n",
    "torch.set_printoptions(precision=10)\n",
    "torch.cuda.set_device(0)\n",
    "torch.manual_seed(0)\n",
    "train_ds = Dataset(cfg,cfg.train_data)\n",
    "print(train_ds.cfg.dataset.data_dir)\n",
    "model_path = os.path.join(train_ds.cfg.dataset.data_dir,\"models\",f'obj_{train_ds.cls_id:02d}.ply')\n",
    "model_xyz = torch.tensor(mesh_utils.get_p3ds_from_ply(model_path))/100\n",
    "print(model_xyz.shape)\n",
    "train_loader = torch.utils.data.DataLoader(\n",
    "            train_ds, batch_size=1, shuffle=False,\n",
    "            drop_last=True, num_workers=4, pin_memory=True)"
   ]
  },
  {
   "cell_type": "code",
   "execution_count": 4,
   "metadata": {},
   "outputs": [],
   "source": [
    "icp_refiner = ICP(params.max_iters,params.threshold)\n",
    "errors = {'rot':[],'trans':[]}\n",
    "accuracy = {'rot':[],'trans':[]}\n",
    "total_time = 0.0\n",
    "count = 0\n",
    "src_pcd = geometry.PointCloud()\n",
    "dst_pcd = geometry.PointCloud()\n",
    "src_pcd.points = utility.Vector3dVector(np.array(model_xyz.squeeze()))\n",
    "data = list(train_loader)[0]"
   ]
  },
  {
   "cell_type": "code",
   "execution_count": 10,
   "metadata": {},
   "outputs": [],
   "source": [
    "gt_pose = data['RTs']\n",
    "pt_cloud = data['cld_xyz0']\n",
    "gt_pose = gt_pose[0,0,...]\n",
    "init_pose,errs = gen_coarse_pose_rand(gt_pose)\n",
    "dst_pcd.points = utility.Vector3dVector(np.array(pt_cloud.squeeze()))\n",
    "start = time.time()\n",
    "ref_pose,iter = icp_refiner(model_xyz,pt_cloud,init_pose)\n",
    "#trans_init = np.eye(4)\n",
    "#trans_init[:3,:4] = init_pose.squeeze()\n",
    "#res =  registration.registration_icp(src_pcd, dst_pcd, params.threshold, trans_init,registration.TransformationEstimationPointToPoint())\n",
    "inf_time = time.time()-start\n",
    "#ref_pose = res.transformation[:3,:]\n",
    "init_rot,init_trans = CalPoseDist(gt_pose,init_pose.squeeze())\n",
    "rot_err,trans_err = CalPoseDist(gt_pose,ref_pose)\n",
    "#print(init_rot,init_trans)\n",
    "#print(rot_err,trans_err)\n",
    "errors['rot'].append(init_rot)\n",
    "errors['trans'].append(init_trans)\n",
    "accuracy['rot'].append(rot_err)\n",
    "accuracy['trans'].append(trans_err)\n",
    "total_time += inf_time\n",
    "count+=1"
   ]
  },
  {
   "cell_type": "code",
   "execution_count": 5,
   "metadata": {},
   "outputs": [
    {
     "name": "stdout",
     "output_type": "stream",
     "text": [
      "generate error\n",
      "Rot: nan; Trans: nan\n",
      "Rot: nan; Trans: nan\n",
      "Refined error\n",
      "Rot: nan; Trans: nan\n",
      "Refined Standard Deviation\n",
      "Rot: nan; Trans: nan\n"
     ]
    },
    {
     "ename": "ZeroDivisionError",
     "evalue": "float division by zero",
     "output_type": "error",
     "traceback": [
      "\u001b[0;31m---------------------------------------------------------------------------\u001b[0m",
      "\u001b[0;31mZeroDivisionError\u001b[0m                         Traceback (most recent call last)",
      "\u001b[0;32m<ipython-input-5-9076dceca84e>\u001b[0m in \u001b[0;36m<module>\u001b[0;34m()\u001b[0m\n\u001b[1;32m      6\u001b[0m \u001b[0mprint\u001b[0m\u001b[0;34m(\u001b[0m\u001b[0;34mf\"Refined Standard Deviation\"\u001b[0m\u001b[0;34m)\u001b[0m\u001b[0;34m\u001b[0m\u001b[0;34m\u001b[0m\u001b[0m\n\u001b[1;32m      7\u001b[0m \u001b[0mprint\u001b[0m \u001b[0;34m(\u001b[0m\u001b[0;34mf\"Rot: {np.std(accuracy['rot'])}; Trans: {np.std(accuracy['trans'])}\"\u001b[0m\u001b[0;34m)\u001b[0m\u001b[0;34m\u001b[0m\u001b[0;34m\u001b[0m\u001b[0m\n\u001b[0;32m----> 8\u001b[0;31m \u001b[0mprint\u001b[0m\u001b[0;34m(\u001b[0m\u001b[0;34mf\"Runtime:{total_time/count}\"\u001b[0m\u001b[0;34m)\u001b[0m\u001b[0;34m\u001b[0m\u001b[0;34m\u001b[0m\u001b[0m\n\u001b[0m",
      "\u001b[0;31mZeroDivisionError\u001b[0m: float division by zero"
     ]
    }
   ],
   "source": [
    "print(f\"generate error\")\n",
    "print (f\"Rot: {np.mean(errors['rot'])}; Trans: {np.mean(errors['trans'])}\")\n",
    "print (f\"Rot: {np.std(errors['rot'])}; Trans: {np.std(errors['trans'])}\")\n",
    "print(f\"Refined error\")\n",
    "print (f\"Rot: {np.mean(accuracy['rot'])}; Trans: {np.mean(accuracy['trans'])}\")\n",
    "print(f\"Refined Standard Deviation\")\n",
    "print (f\"Rot: {np.std(accuracy['rot'])}; Trans: {np.std(accuracy['trans'])}\")\n",
    "print(f\"Runtime:{total_time/count}\")"
   ]
  },
  {
   "cell_type": "code",
   "execution_count": 15,
   "metadata": {},
   "outputs": [],
   "source": [
    "def draw_registration_result(source, target, transformation):\n",
    "    source_temp = copy.deepcopy(source)\n",
    "    target_temp = copy.deepcopy(target)\n",
    "    source_temp.paint_uniform_color([1, 0.706, 0])\n",
    "    target_temp.paint_uniform_color([0, 0.651, 0.929])\n",
    "    source_temp.transform(transformation)\n",
    "    visualization.draw_geometries([source_temp, target_temp])\n",
    "    return visualizer"
   ]
  },
  {
   "cell_type": "code",
   "execution_count": 13,
   "metadata": {},
   "outputs": [],
   "source": [
    "import copy"
   ]
  },
  {
   "cell_type": "code",
   "execution_count": 17,
   "metadata": {},
   "outputs": [
    {
     "name": "stdout",
     "output_type": "stream",
     "text": [
      "tensor([[ 0.8796036839, -0.4581531584,  0.1280334443, -0.1775462031],\n",
      "        [-0.2590542734, -0.2355925292,  0.9366894364,  0.0082093179],\n",
      "        [-0.3989834487, -0.8570833206, -0.3259147406,  0.8723040819]])\n"
     ]
    },
    {
     "ename": "RuntimeError",
     "evalue": "\u001b[1;31m[Open3D ERROR] GLFW Error: X11: The DISPLAY environment variable is missing\u001b[0;m",
     "output_type": "error",
     "traceback": [
      "\u001b[0;31m---------------------------------------------------------------------------\u001b[0m",
      "\u001b[0;31mRuntimeError\u001b[0m                              Traceback (most recent call last)",
      "\u001b[0;32m<ipython-input-17-082694f43013>\u001b[0m in \u001b[0;36m<module>\u001b[0;34m()\u001b[0m\n\u001b[1;32m      3\u001b[0m \u001b[0mpose_vis\u001b[0m\u001b[0;34m[\u001b[0m\u001b[0;34m:\u001b[0m\u001b[0;36m3\u001b[0m\u001b[0;34m,\u001b[0m\u001b[0;34m:\u001b[0m\u001b[0;34m]\u001b[0m \u001b[0;34m=\u001b[0m \u001b[0mref_pose\u001b[0m\u001b[0;34m\u001b[0m\u001b[0;34m\u001b[0m\u001b[0m\n\u001b[1;32m      4\u001b[0m \u001b[0mprint\u001b[0m\u001b[0;34m(\u001b[0m\u001b[0mref_pose\u001b[0m\u001b[0;34m)\u001b[0m\u001b[0;34m\u001b[0m\u001b[0;34m\u001b[0m\u001b[0m\n\u001b[0;32m----> 5\u001b[0;31m \u001b[0mvisualizer\u001b[0m \u001b[0;34m=\u001b[0m \u001b[0mdraw_registration_result\u001b[0m\u001b[0;34m(\u001b[0m\u001b[0msrc_pcd\u001b[0m\u001b[0;34m,\u001b[0m \u001b[0mdst_pcd\u001b[0m\u001b[0;34m,\u001b[0m \u001b[0mpose_vis\u001b[0m\u001b[0;34m)\u001b[0m\u001b[0;34m\u001b[0m\u001b[0;34m\u001b[0m\u001b[0m\n\u001b[0m",
      "\u001b[0;32m<ipython-input-15-502dd775da33>\u001b[0m in \u001b[0;36mdraw_registration_result\u001b[0;34m(source, target, transformation)\u001b[0m\n\u001b[1;32m      5\u001b[0m     \u001b[0mtarget_temp\u001b[0m\u001b[0;34m.\u001b[0m\u001b[0mpaint_uniform_color\u001b[0m\u001b[0;34m(\u001b[0m\u001b[0;34m[\u001b[0m\u001b[0;36m0\u001b[0m\u001b[0;34m,\u001b[0m \u001b[0;36m0.651\u001b[0m\u001b[0;34m,\u001b[0m \u001b[0;36m0.929\u001b[0m\u001b[0;34m]\u001b[0m\u001b[0;34m)\u001b[0m\u001b[0;34m\u001b[0m\u001b[0;34m\u001b[0m\u001b[0m\n\u001b[1;32m      6\u001b[0m     \u001b[0msource_temp\u001b[0m\u001b[0;34m.\u001b[0m\u001b[0mtransform\u001b[0m\u001b[0;34m(\u001b[0m\u001b[0mtransformation\u001b[0m\u001b[0;34m)\u001b[0m\u001b[0;34m\u001b[0m\u001b[0;34m\u001b[0m\u001b[0m\n\u001b[0;32m----> 7\u001b[0;31m     \u001b[0mvisualization\u001b[0m\u001b[0;34m.\u001b[0m\u001b[0mdraw_geometries\u001b[0m\u001b[0;34m(\u001b[0m\u001b[0;34m[\u001b[0m\u001b[0msource_temp\u001b[0m\u001b[0;34m,\u001b[0m \u001b[0mtarget_temp\u001b[0m\u001b[0;34m]\u001b[0m\u001b[0;34m)\u001b[0m\u001b[0;34m\u001b[0m\u001b[0;34m\u001b[0m\u001b[0m\n\u001b[0m\u001b[1;32m      8\u001b[0m     \u001b[0;32mreturn\u001b[0m \u001b[0mvisualizer\u001b[0m\u001b[0;34m\u001b[0m\u001b[0;34m\u001b[0m\u001b[0m\n",
      "\u001b[0;31mRuntimeError\u001b[0m: \u001b[1;31m[Open3D ERROR] GLFW Error: X11: The DISPLAY environment variable is missing\u001b[0;m"
     ]
    }
   ],
   "source": [
    "\n",
    "pose_vis = np.eye(4)\n",
    "pose_vis[:3,:] = ref_pose\n",
    "print(ref_pose)\n",
    "visualizer = draw_registration_result(src_pcd, dst_pcd, pose_vis)\n"
   ]
  }
 ],
 "metadata": {
  "interpreter": {
   "hash": "9a7c004b8c3110980d6399ef97958af35e51af5f4d80904a0524a905fe8b1956"
  },
  "kernelspec": {
   "display_name": "Python 3.6.13 64-bit ('refiner': conda)",
   "name": "python3"
  },
  "language_info": {
   "codemirror_mode": {
    "name": "ipython",
    "version": 3
   },
   "file_extension": ".py",
   "mimetype": "text/x-python",
   "name": "python",
   "nbconvert_exporter": "python",
   "pygments_lexer": "ipython3",
   "version": "3.6.13"
  },
  "orig_nbformat": 4
 },
 "nbformat": 4,
 "nbformat_minor": 2
}